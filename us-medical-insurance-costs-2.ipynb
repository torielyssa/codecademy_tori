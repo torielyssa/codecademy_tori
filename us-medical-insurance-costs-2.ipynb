{
 "cells": [
  {
   "cell_type": "markdown",
   "metadata": {},
   "source": [
    "# U.S. Medical Insurance Costs"
   ]
  },
  {
   "cell_type": "code",
   "execution_count": 40,
   "metadata": {},
   "outputs": [],
   "source": [
    "# This is my first Codecademy Portfolio Project. It is aimed at demonstrating the skills I have learned in\n",
    "# the Python fundamentals module. The assignment is to work with a +- 1000 rows .csv file on Medical Insurance Costs data,\n",
    "# and to come up with your own research questions about the data.\n",
    "\n",
    "# Import csv file and create Python variables out of each column\n",
    "\n",
    "import csv \n",
    "all_data = []\n",
    "age = []\n",
    "sex = []\n",
    "bmi = []\n",
    "children = []\n",
    "smoker = []\n",
    "region = []\n",
    "charges = []\n",
    "\n",
    "with open('insurance.csv') as insurance_csv:\n",
    "    reader = csv.DictReader(insurance_csv)\n",
    "    for row in reader:\n",
    "        all_data.append(row)\n",
    "        age.append(row['age'])\n",
    "        sex.append(row['sex'])\n",
    "        bmi.append(row['bmi'])\n",
    "        children.append(row['children'])\n",
    "        smoker.append(row['smoker'])\n",
    "        region.append(row['region'])\n",
    "        charges.append(row['charges'])"
   ]
  },
  {
   "cell_type": "code",
   "execution_count": 28,
   "metadata": {},
   "outputs": [
    {
     "name": "stdout",
     "output_type": "stream",
     "text": [
      "The number of females in this dataset is: 662\n",
      "The number of males in this dataset is: 676\n"
     ]
    }
   ],
   "source": [
    "# Question 1: what is the distribution of men and women in the dataset?\n",
    "\n",
    "female_count = 0\n",
    "male_count = 0 \n",
    "\n",
    "for i in sex:\n",
    "    if i == 'female':\n",
    "        female_count += 1\n",
    "    elif i == 'male':\n",
    "        male_count += 1\n",
    "    else:\n",
    "        pass\n",
    "\n",
    "print(\"The number of females in this dataset is: \" + str(female_count))\n",
    "print(\"The number of males in this dataset is: \" + str(male_count))\n",
    "        "
   ]
  },
  {
   "cell_type": "code",
   "execution_count": 59,
   "metadata": {},
   "outputs": [
    {
     "name": "stdout",
     "output_type": "stream",
     "text": [
      "The range of charges in this data set is: [1121, 63770]\n",
      "The mean charge in this dataset is: 13269\n",
      "The median charge in this dataset is: 9381\n"
     ]
    }
   ],
   "source": [
    "# Question 2: What are the range, mean and median charges in the dataset?\n",
    "float_charges = []\n",
    "int_charges = []\n",
    "for charge in charges:\n",
    "    float_charge = float(charge)\n",
    "    int_charge = int(float_charge)\n",
    "    float_charges.append(float_charge)\n",
    "    int_charges.append(int_charge)\n",
    "    \n",
    "min_charges = min(int_charges)\n",
    "max_charges = max(int_charges)\n",
    "range_charges = [min_charges, max_charges]\n",
    "print(\"The range of charges in this data set is: \" + str(range_charges))\n",
    "\n",
    "count = 0\n",
    "total_charges = 0\n",
    "for int_charge in int_charges:\n",
    "    count += 1\n",
    "    total_charges += int_charge\n",
    "    \n",
    "mean_charges = total_charges / count\n",
    "print(\"The mean charge in this dataset is: \" + str(int(mean_charges)))\n",
    "\n",
    "import statistics\n",
    "median_charges = statistics.median(int_charges)\n",
    "print(\"The median charge in this dataset is: \" + str(int(median_charges)))"
   ]
  },
  {
   "cell_type": "code",
   "execution_count": 92,
   "metadata": {},
   "outputs": [
    {
     "name": "stdout",
     "output_type": "stream",
     "text": [
      "The average insurance cost for a male in this dataset is: 13956\n",
      "The average insurance cost for a female in this dataset is: 12569\n",
      "The difference in average insurance cost is: 1387\n"
     ]
    }
   ],
   "source": [
    "# Question 3: Who pay more insurance on average, men or women?\n",
    "\n",
    "# Merge the lists sex and charges into a single list using the zip() function\n",
    "\n",
    "sex_and_charges = zip(sex, int_charges)\n",
    "\n",
    "male_total = 0\n",
    "female_total = 0\n",
    "\n",
    "for i in sex_and_charges:\n",
    "    if i[0] == 'male':\n",
    "        male_total += i[1]\n",
    "    elif i[0] == 'female':\n",
    "        female_total += i[1]\n",
    "    else:\n",
    "        pass\n",
    "\n",
    "print(\"The average insurance cost for a male in this dataset is: \" + str(int(male_total/male_count)))\n",
    "print(\"The average insurance cost for a female in this dataset is: \" + str(int(female_total/female_count)))\n",
    "print(\"The difference in average insurance cost is: \" + str(int((male_total/male_count) - (female_total/female_count))))"
   ]
  },
  {
   "cell_type": "code",
   "execution_count": 105,
   "metadata": {},
   "outputs": [
    {
     "name": "stdout",
     "output_type": "stream",
     "text": [
      "If your BMI is too low, your average insurance cost is: 8657 dollars.\n",
      "If your BMI is healthy, your average insurance cost is: 10434 dollars.\n",
      "If your BMI is overweight, your average insurance cost is: 10997 dollars.\n",
      "If your BMI is obese, your average insurance cost is: 15560 dollars.\n"
     ]
    }
   ],
   "source": [
    "# Question 4: How does BMI affect the insurance cost?\n",
    "float_bmi = []\n",
    "\n",
    "for i in bmi:\n",
    "    float_bmi.append(float(i))\n",
    "\n",
    "bmi_and_charges = zip(float_bmi, int_charges)\n",
    "\n",
    "charge_low_bmi = 0\n",
    "charge_healthy_bmi = 0\n",
    "charge_overweight_bmi = 0\n",
    "charge_obese_bmi = 0\n",
    "\n",
    "counter_1 = 0\n",
    "counter_2 = 0\n",
    "counter_3 = 0\n",
    "counter_4 = 0\n",
    "\n",
    "for i in bmi_and_charges:\n",
    "    if i[0] <= 18.5:\n",
    "        charge_low_bmi += i[1]\n",
    "        counter_1 += 1\n",
    "    elif i[0] <= 25:\n",
    "        charge_healthy_bmi += i[1]\n",
    "        counter_2 += 1\n",
    "    elif i[0] <= 30:\n",
    "        charge_overweight_bmi += i[1]\n",
    "        counter_3 += 1\n",
    "    elif i[0] > 30:\n",
    "        charge_obese_bmi += i[1]\n",
    "        counter_4 += 1\n",
    "\n",
    "avg_low = charge_low_bmi / counter_1\n",
    "avg_healthy = charge_healthy_bmi / counter_2\n",
    "avg_overweight = charge_overweight_bmi / counter_3\n",
    "avg_obese = charge_obese_bmi / counter_4\n",
    "\n",
    "print(\"If your BMI is too low, your average insurance cost is: \" + str(int(avg_low)) + \" dollars.\")\n",
    "print(\"If your BMI is healthy, your average insurance cost is: \" + str(int(avg_healthy)) + \" dollars.\")\n",
    "print(\"If your BMI is overweight, your average insurance cost is: \" + str(int(avg_overweight)) + \" dollars.\")\n",
    "print(\"If your BMI is obese, your average insurance cost is: \" + str(int(avg_obese)) + \" dollars.\")\n"
   ]
  },
  {
   "cell_type": "code",
   "execution_count": null,
   "metadata": {},
   "outputs": [],
   "source": []
  }
 ],
 "metadata": {
  "kernelspec": {
   "display_name": "Python 3 (ipykernel)",
   "language": "python",
   "name": "python3"
  },
  "language_info": {
   "codemirror_mode": {
    "name": "ipython",
    "version": 3
   },
   "file_extension": ".py",
   "mimetype": "text/x-python",
   "name": "python",
   "nbconvert_exporter": "python",
   "pygments_lexer": "ipython3",
   "version": "3.9.12"
  }
 },
 "nbformat": 4,
 "nbformat_minor": 4
}
